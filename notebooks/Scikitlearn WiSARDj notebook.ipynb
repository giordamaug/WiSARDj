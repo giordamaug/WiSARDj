{
 "cells": [
  {
   "cell_type": "code",
   "execution_count": 11,
   "metadata": {
    "scrolled": true
   },
   "outputs": [
    {
     "name": "stderr",
     "output_type": "stream",
     "text": [
      "\u001b[32m\u001b[1m    Updating\u001b[22m\u001b[39m git-repo `https://github.com/giordamaug/WiSARDj`\n",
      "\u001b[32m\u001b[1m   Resolving\u001b[22m\u001b[39m package versions...\n",
      "\u001b[32m\u001b[1m  No Changes\u001b[22m\u001b[39m to `~/.julia/environments/v1.6/Project.toml`\n",
      "\u001b[32m\u001b[1m  No Changes\u001b[22m\u001b[39m to `~/.julia/environments/v1.6/Manifest.toml`\n",
      "\u001b[32m\u001b[1m   Resolving\u001b[22m\u001b[39m package versions...\n",
      "\u001b[32m\u001b[1m  No Changes\u001b[22m\u001b[39m to `~/.julia/environments/v1.6/Project.toml`\n",
      "\u001b[32m\u001b[1m  No Changes\u001b[22m\u001b[39m to `~/.julia/environments/v1.6/Manifest.toml`\n",
      "\u001b[32m\u001b[1m   Resolving\u001b[22m\u001b[39m package versions...\n",
      "\u001b[32m\u001b[1m  No Changes\u001b[22m\u001b[39m to `~/.julia/environments/v1.6/Project.toml`\n",
      "\u001b[32m\u001b[1m  No Changes\u001b[22m\u001b[39m to `~/.julia/environments/v1.6/Manifest.toml`\n",
      "\u001b[32m\u001b[1m   Resolving\u001b[22m\u001b[39m package versions...\n",
      "\u001b[32m\u001b[1m  No Changes\u001b[22m\u001b[39m to `~/.julia/environments/v1.6/Project.toml`\n",
      "\u001b[32m\u001b[1m  No Changes\u001b[22m\u001b[39m to `~/.julia/environments/v1.6/Manifest.toml`\n",
      "\u001b[32m\u001b[1m   Resolving\u001b[22m\u001b[39m package versions...\n",
      "\u001b[32m\u001b[1m  No Changes\u001b[22m\u001b[39m to `~/.julia/environments/v1.6/Project.toml`\n",
      "\u001b[32m\u001b[1m  No Changes\u001b[22m\u001b[39m to `~/.julia/environments/v1.6/Manifest.toml`\n",
      "\u001b[32m\u001b[1m   Resolving\u001b[22m\u001b[39m package versions...\n",
      "\u001b[32m\u001b[1m  No Changes\u001b[22m\u001b[39m to `~/.julia/environments/v1.6/Project.toml`\n",
      "\u001b[32m\u001b[1m  No Changes\u001b[22m\u001b[39m to `~/.julia/environments/v1.6/Manifest.toml`\n",
      "\u001b[32m\u001b[1m   Resolving\u001b[22m\u001b[39m package versions...\n",
      "\u001b[32m\u001b[1m  No Changes\u001b[22m\u001b[39m to `~/.julia/environments/v1.6/Project.toml`\n",
      "\u001b[32m\u001b[1m  No Changes\u001b[22m\u001b[39m to `~/.julia/environments/v1.6/Manifest.toml`\n",
      "\u001b[32m\u001b[1m   Resolving\u001b[22m\u001b[39m package versions...\n",
      "\u001b[32m\u001b[1m  No Changes\u001b[22m\u001b[39m to `~/.julia/environments/v1.6/Project.toml`\n",
      "\u001b[32m\u001b[1m  No Changes\u001b[22m\u001b[39m to `~/.julia/environments/v1.6/Manifest.toml`\n"
     ]
    },
    {
     "name": "stdout",
     "output_type": "stream",
     "text": [
      "┌─────────────┬────────────┬─────────────┬────────────┬─────────────────────────────────┐\n",
      "│\u001b[1m SepalLength \u001b[0m│\u001b[1m SepalWidth \u001b[0m│\u001b[1m PetalLength \u001b[0m│\u001b[1m PetalWidth \u001b[0m│\u001b[1m Species                         \u001b[0m│\n",
      "│\u001b[90m Float64     \u001b[0m│\u001b[90m Float64    \u001b[0m│\u001b[90m Float64     \u001b[0m│\u001b[90m Float64    \u001b[0m│\u001b[90m CategoricalValue{String, UInt8} \u001b[0m│\n",
      "│\u001b[90m Continuous  \u001b[0m│\u001b[90m Continuous \u001b[0m│\u001b[90m Continuous  \u001b[0m│\u001b[90m Continuous \u001b[0m│\u001b[90m Multiclass{3}                   \u001b[0m│\n",
      "├─────────────┼────────────┼─────────────┼────────────┼─────────────────────────────────┤\n",
      "│ 5.1         │ 3.5        │ 1.4         │ 0.2        │ setosa                          │\n",
      "│ 4.9         │ 3.0        │ 1.4         │ 0.2        │ setosa                          │\n",
      "│ 4.7         │ 3.2        │ 1.3         │ 0.2        │ setosa                          │\n",
      "└─────────────┴────────────┴─────────────┴────────────┴─────────────────────────────────┘\n"
     ]
    }
   ],
   "source": [
    "import Pkg;\n",
    "using Pkg\n",
    "Pkg.add(url=\"https://github.com/giordamaug/WiSARDj\")\n",
    "Pkg.add(\"MLJ\")\n",
    "Pkg.add(\"MLJBase\")\n",
    "Pkg.add(\"DataFrames\")\n",
    "Pkg.add(\"MLBase\")\n",
    "Pkg.add(\"RDatasets\")\n",
    "Pkg.add(\"ScikitLearn\")\n",
    "Pkg.add(\"ScikitLearnBase\")\n",
    "import RDatasets\n",
    "using MLJ\n",
    "iris = RDatasets.dataset(\"datasets\", \"iris\");\n",
    "first(iris, 3) |> pretty"
   ]
  },
  {
   "cell_type": "code",
   "execution_count": 12,
   "metadata": {},
   "outputs": [
    {
     "name": "stdout",
     "output_type": "stream",
     "text": [
      "accuracy: 0.9466666666666667\n"
     ]
    },
    {
     "name": "stderr",
     "output_type": "stream",
     "text": [
      "┌ Warning: Converting array elements to strings before wrapping in a `CategoricalArray`, as `CategoricalArrays.CategoricalValue{String, UInt8}` unsupported by CategoricalArrays. \n",
      "└ @ ScientificTypes /Users/maurizio/.julia/packages/ScientificTypes/3irls/src/convention/coerce.jl:48\n"
     ]
    },
    {
     "data": {
      "text/plain": [
       "              ┌─────────────────────────────────────────┐\n",
       "              │              Ground Truth               │\n",
       "┌─────────────┼─────────────┬─────────────┬─────────────┤\n",
       "│  Predicted  │   setosa    │  versicol…  │  virginica  │\n",
       "├─────────────┼─────────────┼─────────────┼─────────────┤\n",
       "│   setosa    │     50      │      0      │      0      │\n",
       "├─────────────┼─────────────┼─────────────┼─────────────┤\n",
       "│  versicol…  │      0      │     46      │      4      │\n",
       "├─────────────┼─────────────┼─────────────┼─────────────┤\n",
       "│  virginica  │      0      │      4      │     46      │\n",
       "└─────────────┴─────────────┴─────────────┴─────────────┘\n"
      ]
     },
     "execution_count": 12,
     "metadata": {},
     "output_type": "execute_result"
    }
   ],
   "source": [
    "using WiSARDj.SciLearnInterface: WiSARDClassifier\n",
    "using MLJ, MLBase, DataFrames, MLJBase\n",
    "using ScikitLearn.CrossValidation: cross_val_predict\n",
    "using ScikitLearnBase\n",
    "\n",
    "with_cv = true\n",
    "model = WiSARDClassifier(n_bits=8, n_tics=256, bleaching=false, debug=true)\n",
    "\n",
    "X = Matrix(DataFrames.select(iris, Not([:Species])))\n",
    "y = vec(Matrix(DataFrames.select(iris, [:Species])))\n",
    "if with_cv\n",
    "    ŷ = cross_val_predict(model, X, y; cv=5)\n",
    "    y_targets = y\n",
    "else\n",
    "    train, test = MLJ.partition(eachindex(y), 0.8, shuffle=true, rng=1)\n",
    "    ScikitLearnBase.fit!(model, X[train,:], y[train,:])\n",
    "    ŷ = ScikitLearnBase.predict(model, X[test,:])\n",
    "    y_targets = y[test,:]\n",
    "end\n",
    "accuracy = sum(ŷ .== y_targets) / length(y_targets)\n",
    "println(\"accuracy: $accuracy\")\n",
    "MLJBase.ConfusionMatrix()(ŷ, coerce(vec(y_targets), OrderedFactor))  # I don't know why we need coerce!end"
   ]
  }
 ],
 "metadata": {
  "kernelspec": {
   "display_name": "Julia 1.6.0",
   "language": "julia",
   "name": "julia-1.6"
  },
  "language_info": {
   "file_extension": ".jl",
   "mimetype": "application/julia",
   "name": "julia",
   "version": "1.6.0"
  }
 },
 "nbformat": 4,
 "nbformat_minor": 4
}
