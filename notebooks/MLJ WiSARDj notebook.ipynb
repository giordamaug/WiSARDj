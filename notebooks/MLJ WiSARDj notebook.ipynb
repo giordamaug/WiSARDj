{
 "cells": [
  {
   "cell_type": "code",
   "execution_count": null,
   "metadata": {},
   "outputs": [
    {
     "name": "stderr",
     "output_type": "stream",
     "text": [
      "\u001b[32m\u001b[1m    Updating\u001b[22m\u001b[39m git-repo `https://github.com/giordamaug/WiSARDj`\n"
     ]
    }
   ],
   "source": [
    "using Pkg\n",
    "Pkg.add(url=\"https://github.com/giordamaug/WiSARDj\")\n",
    "Pkg.add(\"MLJ\")\n",
    "Pkg.add(\"MLJBase\")\n",
    "Pkg.add(\"DataFrames\")\n",
    "Pkg.add(\"MLBase\")\n",
    "Pkg.add(\"RDatasets\")\n",
    "import RDatasets\n",
    "using MLJ\n",
    "iris = RDatasets.dataset(\"datasets\", \"iris\");\n",
    "first(iris, 3) |> pretty"
   ]
  },
  {
   "cell_type": "code",
   "execution_count": null,
   "metadata": {},
   "outputs": [],
   "source": [
    "using WiSARDj.MLJInterface: WiSARDClassifier\n",
    "using MLJBase, MLBase, DataFrames\n",
    "\n",
    "X = Matrix(DataFrames.select(iris, Not([:Species])))\n",
    "y = vec(Matrix(DataFrames.select(iris, [:Species])))\n",
    "\n",
    "model = WiSARDClassifier()\n",
    "train, test = MLJ.partition(eachindex(y), 0.8, shuffle=true, rng=1)\n",
    "MLJ.fit(model, Any, X[train,:], y[train,:])\n",
    "ŷ = MLJ.predict(model, Any, X[test,:])\n",
    "y_targets = y[test,:]\n",
    "accuracy = sum(ŷ .== y_targets) / length(y_targets)\n",
    "println(\"accuracy: $accuracy\")\n",
    "MLJBase.ConfusionMatrix()(ŷ, coerce(vec(y_targets), OrderedFactor))  # I don't know why we need to coerce! "
   ]
  }
 ],
 "metadata": {
  "kernelspec": {
   "display_name": "Julia 1.6.0",
   "language": "julia",
   "name": "julia-1.6"
  },
  "language_info": {
   "file_extension": ".jl",
   "mimetype": "application/julia",
   "name": "julia",
   "version": "1.6.0"
  }
 },
 "nbformat": 4,
 "nbformat_minor": 4
}
